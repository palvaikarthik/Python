{
 "cells": [
  {
   "cell_type": "markdown",
   "id": "95a43d8b",
   "metadata": {},
   "source": [
    "# Python Practice"
   ]
  },
  {
   "cell_type": "markdown",
   "id": "b6fac8ee",
   "metadata": {},
   "source": [
    "### List []"
   ]
  },
  {
   "cell_type": "code",
   "execution_count": 1,
   "id": "8f61af01",
   "metadata": {},
   "outputs": [],
   "source": [
    "# Creating List and List Manupulations\n",
    "# (preserved, duplicates allowed and Heterogenous allowed)\n",
    "# Mutable #  we can change based on requirement"
   ]
  },
  {
   "cell_type": "code",
   "execution_count": 2,
   "id": "a2a7a31e",
   "metadata": {},
   "outputs": [],
   "source": [
    "var=['Monday','Tuesday','Wednesday',1,2,3,'']"
   ]
  },
  {
   "cell_type": "code",
   "execution_count": 3,
   "id": "bcb857ea",
   "metadata": {},
   "outputs": [
    {
     "data": {
      "text/plain": [
       "list"
      ]
     },
     "execution_count": 3,
     "metadata": {},
     "output_type": "execute_result"
    }
   ],
   "source": [
    "type(var)"
   ]
  },
  {
   "cell_type": "code",
   "execution_count": 4,
   "id": "9332312f",
   "metadata": {},
   "outputs": [
    {
     "name": "stdout",
     "output_type": "stream",
     "text": [
      "['Monday', 'Tuesday', 'Wednesday', 1, 2, 3, '']\n"
     ]
    }
   ],
   "source": [
    "print(var)"
   ]
  },
  {
   "cell_type": "code",
   "execution_count": 5,
   "id": "db6518dd",
   "metadata": {},
   "outputs": [],
   "source": [
    "List = []"
   ]
  },
  {
   "cell_type": "code",
   "execution_count": 6,
   "id": "659dd0b6",
   "metadata": {},
   "outputs": [
    {
     "name": "stdout",
     "output_type": "stream",
     "text": [
      "[]\n"
     ]
    }
   ],
   "source": [
    "print(List)"
   ]
  },
  {
   "cell_type": "code",
   "execution_count": 7,
   "id": "e977ef54",
   "metadata": {},
   "outputs": [],
   "source": [
    "# Adding elements to the the List"
   ]
  },
  {
   "cell_type": "code",
   "execution_count": 8,
   "id": "8a66aaac",
   "metadata": {},
   "outputs": [],
   "source": [
    "List = [1,2,3,4]"
   ]
  },
  {
   "cell_type": "code",
   "execution_count": 9,
   "id": "dad2194f",
   "metadata": {},
   "outputs": [],
   "source": [
    "List = ['1','2']"
   ]
  },
  {
   "cell_type": "code",
   "execution_count": 10,
   "id": "b794b408",
   "metadata": {},
   "outputs": [
    {
     "name": "stdout",
     "output_type": "stream",
     "text": [
      "<class 'list'>\n"
     ]
    }
   ],
   "source": [
    "print(list)"
   ]
  },
  {
   "cell_type": "code",
   "execution_count": 11,
   "id": "10734f63",
   "metadata": {},
   "outputs": [
    {
     "name": "stdout",
     "output_type": "stream",
     "text": [
      "['1', '2']\n"
     ]
    }
   ],
   "source": [
    "print(List)"
   ]
  },
  {
   "cell_type": "code",
   "execution_count": 12,
   "id": "cb1d9e63",
   "metadata": {},
   "outputs": [
    {
     "ename": "TypeError",
     "evalue": "'builtin_function_or_method' object is not subscriptable",
     "output_type": "error",
     "traceback": [
      "\u001b[1;31m---------------------------------------------------------------------------\u001b[0m",
      "\u001b[1;31mTypeError\u001b[0m                                 Traceback (most recent call last)",
      "Cell \u001b[1;32mIn[12], line 1\u001b[0m\n\u001b[1;32m----> 1\u001b[0m List\u001b[38;5;241m.\u001b[39mappend[\u001b[38;5;241m1\u001b[39m,\u001b[38;5;241m2\u001b[39m,\u001b[38;5;241m3\u001b[39m]\n",
      "\u001b[1;31mTypeError\u001b[0m: 'builtin_function_or_method' object is not subscriptable"
     ]
    }
   ],
   "source": [
    "List.append[1,2,3]"
   ]
  },
  {
   "cell_type": "code",
   "execution_count": null,
   "id": "9729b982",
   "metadata": {},
   "outputs": [],
   "source": [
    "Print(List[1])"
   ]
  },
  {
   "cell_type": "code",
   "execution_count": null,
   "id": "0cd9c954",
   "metadata": {},
   "outputs": [],
   "source": [
    "print(List[1])"
   ]
  },
  {
   "cell_type": "code",
   "execution_count": null,
   "id": "ad7e724b",
   "metadata": {},
   "outputs": [],
   "source": [
    "print(var[1])"
   ]
  },
  {
   "cell_type": "code",
   "execution_count": null,
   "id": "fa34867f",
   "metadata": {},
   "outputs": [],
   "source": [
    "type(List)"
   ]
  },
  {
   "cell_type": "markdown",
   "id": "a30cfae1",
   "metadata": {},
   "source": [
    "Time Complexity O(1)\n",
    "Space Complexity O(n)"
   ]
  },
  {
   "cell_type": "code",
   "execution_count": null,
   "id": "11e71c8c",
   "metadata": {},
   "outputs": [],
   "source": [
    "List = [1,1,2,3,4,5]\n",
    "print(\"\\nList with the numbers\")\n",
    "print(List)"
   ]
  },
  {
   "cell_type": "code",
   "execution_count": null,
   "id": "ea681348",
   "metadata": {},
   "outputs": [],
   "source": [
    "List1 = [1,'Monday',2,'Tuesday',3,'Wednesday']\n",
    "print(\"\\nList with the Mixed Values\")\n",
    "print(List1)"
   ]
  },
  {
   "cell_type": "code",
   "execution_count": null,
   "id": "60447552",
   "metadata": {},
   "outputs": [],
   "source": [
    "# Accessing elements from the list"
   ]
  },
  {
   "cell_type": "code",
   "execution_count": null,
   "id": "63fdd528",
   "metadata": {},
   "outputs": [],
   "source": [
    "print(List[0])\n",
    "print(List[1])\n",
    "print(List[2])"
   ]
  },
  {
   "cell_type": "code",
   "execution_count": null,
   "id": "bf50149d",
   "metadata": {},
   "outputs": [],
   "source": [
    "print(List1[0])\n",
    "print(List1[1])\n",
    "print(List1[2])"
   ]
  },
  {
   "cell_type": "code",
   "execution_count": null,
   "id": "106e69e9",
   "metadata": {},
   "outputs": [],
   "source": [
    "# Creating Multu-Dimensional Array and accessing elements"
   ]
  },
  {
   "cell_type": "code",
   "execution_count": null,
   "id": "e8802c50",
   "metadata": {},
   "outputs": [],
   "source": [
    "List=[1,'Monday',2,'Tuesday',3,'Wednesday',['Hi','Hello'],[1,2,'Hello',3],[]]"
   ]
  },
  {
   "cell_type": "code",
   "execution_count": null,
   "id": "a0cf9e04",
   "metadata": {},
   "outputs": [],
   "source": [
    "print([-1])"
   ]
  },
  {
   "cell_type": "code",
   "execution_count": null,
   "id": "b1844141",
   "metadata": {},
   "outputs": [],
   "source": [
    "print(List[-1])"
   ]
  },
  {
   "cell_type": "code",
   "execution_count": null,
   "id": "c228ad8f",
   "metadata": {},
   "outputs": [],
   "source": [
    "print(List[-2])"
   ]
  },
  {
   "cell_type": "code",
   "execution_count": null,
   "id": "630dd677",
   "metadata": {},
   "outputs": [],
   "source": [
    "print(List[0])"
   ]
  },
  {
   "cell_type": "code",
   "execution_count": null,
   "id": "0eeb28bd",
   "metadata": {},
   "outputs": [],
   "source": [
    "print(List[2])"
   ]
  },
  {
   "cell_type": "code",
   "execution_count": null,
   "id": "12d5e8af",
   "metadata": {},
   "outputs": [],
   "source": [
    "print(List[6][0])"
   ]
  },
  {
   "cell_type": "code",
   "execution_count": null,
   "id": "9375dca7",
   "metadata": {},
   "outputs": [],
   "source": [
    "len(List)"
   ]
  },
  {
   "cell_type": "code",
   "execution_count": null,
   "id": "2200cc18",
   "metadata": {},
   "outputs": [],
   "source": [
    "len(List1)"
   ]
  },
  {
   "cell_type": "code",
   "execution_count": null,
   "id": "8d9714f0",
   "metadata": {},
   "outputs": [],
   "source": [
    "# Taking Input of a Python List\n",
    "string = input(\"Enter Elements:\")"
   ]
  },
  {
   "cell_type": "code",
   "execution_count": null,
   "id": "efa0aefa",
   "metadata": {},
   "outputs": [],
   "source": [
    "# .split() function\n",
    "lst = string.split()\n",
    "print(\"The list is\",lst)"
   ]
  },
  {
   "cell_type": "code",
   "execution_count": null,
   "id": "c8af1de7",
   "metadata": {},
   "outputs": [],
   "source": [
    "type(string)"
   ]
  },
  {
   "cell_type": "code",
   "execution_count": null,
   "id": "32f72623",
   "metadata": {},
   "outputs": [],
   "source": [
    "type(lst)"
   ]
  },
  {
   "cell_type": "code",
   "execution_count": null,
   "id": "63745af6",
   "metadata": {},
   "outputs": [],
   "source": [
    "n = int(input(\"Enter the size of list : \"))\n",
    "lst1 = list(map(int, input(\"Enter the integer\\\n",
    "elements:\").strip().split()))[:n]\n",
    "print(\"the list is:\",lst1)"
   ]
  },
  {
   "cell_type": "code",
   "execution_count": null,
   "id": "21e20d83",
   "metadata": {},
   "outputs": [],
   "source": [
    "List=[1,'Monday',2,'Tuesday',3,'Wednesday',['Hi','Hello'],[1,2,'Hello',3],[]]"
   ]
  },
  {
   "cell_type": "code",
   "execution_count": null,
   "id": "e520117b",
   "metadata": {},
   "outputs": [],
   "source": [
    "print(List)"
   ]
  },
  {
   "cell_type": "code",
   "execution_count": null,
   "id": "9e8bae7e",
   "metadata": {},
   "outputs": [],
   "source": [
    "List.append(1)\n",
    "List.append(2)\n",
    "List.append('Monday')"
   ]
  },
  {
   "cell_type": "code",
   "execution_count": 13,
   "id": "3610e7f0",
   "metadata": {},
   "outputs": [
    {
     "name": "stdout",
     "output_type": "stream",
     "text": [
      "['1', '2']\n"
     ]
    }
   ],
   "source": [
    "print(List)"
   ]
  },
  {
   "cell_type": "code",
   "execution_count": null,
   "id": "cbe99dd5",
   "metadata": {},
   "outputs": [],
   "source": [
    "List"
   ]
  },
  {
   "cell_type": "code",
   "execution_count": 14,
   "id": "c5f3a23d",
   "metadata": {},
   "outputs": [
    {
     "name": "stdout",
     "output_type": "stream",
     "text": [
      "['1', '2']\n"
     ]
    }
   ],
   "source": [
    "print(List)"
   ]
  },
  {
   "cell_type": "code",
   "execution_count": 15,
   "id": "56b7de6a",
   "metadata": {},
   "outputs": [],
   "source": [
    "List=[1,'Monday',2,'Tuesday',3,'Wednesday',['Hi','Hello'],[1,2,'Hello',3],[]]"
   ]
  },
  {
   "cell_type": "code",
   "execution_count": 16,
   "id": "7bd05b0f",
   "metadata": {},
   "outputs": [
    {
     "name": "stdout",
     "output_type": "stream",
     "text": [
      "[1, 'Monday', 2, 'Tuesday', 3, 'Wednesday', ['Hi', 'Hello'], [1, 2, 'Hello', 3], []]\n"
     ]
    }
   ],
   "source": [
    "print(List)"
   ]
  },
  {
   "cell_type": "code",
   "execution_count": 17,
   "id": "0b3571f2",
   "metadata": {},
   "outputs": [
    {
     "name": "stdout",
     "output_type": "stream",
     "text": [
      "Wednesday\n"
     ]
    }
   ],
   "source": [
    "print(List[5])"
   ]
  },
  {
   "cell_type": "code",
   "execution_count": 29,
   "id": "a2a24017",
   "metadata": {},
   "outputs": [
    {
     "name": "stdout",
     "output_type": "stream",
     "text": [
      "[2, 3, ['Hi', 'Hello']]\n",
      "[3, ['Hi', 'Hello'], []]\n",
      "['Tuesday', 3, 'Wednesday', ['Hi', 'Hello']]\n",
      "[3, 'Wednesday', ['Hi', 'Hello'], [1, 2, 'Hello', 3], []]\n",
      "Monday\n",
      "['Monday']\n",
      "[[1, 2, 'Hello', 3], 'Wednesday', 'Tuesday']\n"
     ]
    }
   ],
   "source": [
    "print(List[2:7:2])\n",
    "print(List[4::2])\n",
    "print(List[3:7])\n",
    "print(List[4:100])\n",
    "print(List[1])\n",
    "print(List[1:2])\n",
    "print(List[7:2:-2])"
   ]
  },
  {
   "cell_type": "code",
   "execution_count": 22,
   "id": "7c80d1d2",
   "metadata": {},
   "outputs": [
    {
     "data": {
      "text/plain": [
       "[1,\n",
       " 'Monday',\n",
       " 2,\n",
       " 'Tuesday',\n",
       " 3,\n",
       " 'Wednesday',\n",
       " ['Hi', 'Hello'],\n",
       " [1, 2, 'Hello', 3],\n",
       " []]"
      ]
     },
     "execution_count": 22,
     "metadata": {},
     "output_type": "execute_result"
    }
   ],
   "source": [
    "List"
   ]
  },
  {
   "cell_type": "code",
   "execution_count": 30,
   "id": "dd31b278",
   "metadata": {},
   "outputs": [
    {
     "name": "stdout",
     "output_type": "stream",
     "text": [
      "[9, 7, 5]\n"
     ]
    }
   ],
   "source": [
    "n=[1,2,3,4,5,6,7,8,9,10]\n",
    "print(n[8:2:-2])"
   ]
  }
 ],
 "metadata": {
  "kernelspec": {
   "display_name": "Python 3 (ipykernel)",
   "language": "python",
   "name": "python3"
  },
  "language_info": {
   "codemirror_mode": {
    "name": "ipython",
    "version": 3
   },
   "file_extension": ".py",
   "mimetype": "text/x-python",
   "name": "python",
   "nbconvert_exporter": "python",
   "pygments_lexer": "ipython3",
   "version": "3.11.3"
  }
 },
 "nbformat": 4,
 "nbformat_minor": 5
}
