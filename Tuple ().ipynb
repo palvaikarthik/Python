{
 "cells": [
  {
   "cell_type": "markdown",
   "id": "b04fad28",
   "metadata": {},
   "source": [
    "## Tuple()"
   ]
  },
  {
   "cell_type": "code",
   "execution_count": 1,
   "id": "56fa1f4b",
   "metadata": {},
   "outputs": [],
   "source": [
    "## Same as List[] (preserved, duplicates allowed and Heterogenous allowed) but Tuple is fixed once it's created. i.e,\n",
    "## Immutable"
   ]
  },
  {
   "cell_type": "code",
   "execution_count": 6,
   "id": "6f4f4bf6",
   "metadata": {},
   "outputs": [],
   "source": [
    "T=(1,True,'Karthik','')"
   ]
  },
  {
   "cell_type": "code",
   "execution_count": 7,
   "id": "ba464f75",
   "metadata": {},
   "outputs": [
    {
     "name": "stdout",
     "output_type": "stream",
     "text": [
      "(1, True, 'Karthik', '')\n"
     ]
    }
   ],
   "source": [
    "print(T)"
   ]
  },
  {
   "cell_type": "code",
   "execution_count": 8,
   "id": "1b00154e",
   "metadata": {},
   "outputs": [
    {
     "data": {
      "text/plain": [
       "(1, True, 'Karthik', '')"
      ]
     },
     "execution_count": 8,
     "metadata": {},
     "output_type": "execute_result"
    }
   ],
   "source": [
    "T"
   ]
  },
  {
   "cell_type": "code",
   "execution_count": 11,
   "id": "041068fb",
   "metadata": {},
   "outputs": [],
   "source": [
    "T=T*2"
   ]
  },
  {
   "cell_type": "code",
   "execution_count": 12,
   "id": "3d839e4f",
   "metadata": {},
   "outputs": [
    {
     "data": {
      "text/plain": [
       "(1,\n",
       " True,\n",
       " 'Karthik',\n",
       " '',\n",
       " 1,\n",
       " True,\n",
       " 'Karthik',\n",
       " '',\n",
       " 1,\n",
       " True,\n",
       " 'Karthik',\n",
       " '',\n",
       " 1,\n",
       " True,\n",
       " 'Karthik',\n",
       " '',\n",
       " 1,\n",
       " True,\n",
       " 'Karthik',\n",
       " '',\n",
       " 1,\n",
       " True,\n",
       " 'Karthik',\n",
       " '',\n",
       " 1,\n",
       " True,\n",
       " 'Karthik',\n",
       " '',\n",
       " 1,\n",
       " True,\n",
       " 'Karthik',\n",
       " '')"
      ]
     },
     "execution_count": 12,
     "metadata": {},
     "output_type": "execute_result"
    }
   ],
   "source": [
    "T"
   ]
  },
  {
   "cell_type": "code",
   "execution_count": 13,
   "id": "4f53b9af",
   "metadata": {},
   "outputs": [],
   "source": [
    "T1=(1,True,'Karthik','')"
   ]
  },
  {
   "cell_type": "code",
   "execution_count": 14,
   "id": "c1d3ad80",
   "metadata": {},
   "outputs": [
    {
     "data": {
      "text/plain": [
       "(1, True, 'Karthik', '')"
      ]
     },
     "execution_count": 14,
     "metadata": {},
     "output_type": "execute_result"
    }
   ],
   "source": [
    "T1"
   ]
  },
  {
   "cell_type": "code",
   "execution_count": 15,
   "id": "befc45e0",
   "metadata": {},
   "outputs": [
    {
     "data": {
      "text/plain": [
       "''"
      ]
     },
     "execution_count": 15,
     "metadata": {},
     "output_type": "execute_result"
    }
   ],
   "source": [
    "T1[3]"
   ]
  },
  {
   "cell_type": "code",
   "execution_count": 16,
   "id": "0d8d9108",
   "metadata": {},
   "outputs": [
    {
     "ename": "TypeError",
     "evalue": "'tuple' object does not support item assignment",
     "output_type": "error",
     "traceback": [
      "\u001b[1;31m---------------------------------------------------------------------------\u001b[0m",
      "\u001b[1;31mTypeError\u001b[0m                                 Traceback (most recent call last)",
      "Cell \u001b[1;32mIn[16], line 1\u001b[0m\n\u001b[1;32m----> 1\u001b[0m T1[\u001b[38;5;241m4\u001b[39m]\u001b[38;5;241m=\u001b[39m\u001b[38;5;241m1\u001b[39m\n",
      "\u001b[1;31mTypeError\u001b[0m: 'tuple' object does not support item assignment"
     ]
    }
   ],
   "source": [
    "T1[4]=1"
   ]
  },
  {
   "cell_type": "code",
   "execution_count": 17,
   "id": "526a2f8f",
   "metadata": {},
   "outputs": [
    {
     "ename": "TypeError",
     "evalue": "'tuple' object does not support item assignment",
     "output_type": "error",
     "traceback": [
      "\u001b[1;31m---------------------------------------------------------------------------\u001b[0m",
      "\u001b[1;31mTypeError\u001b[0m                                 Traceback (most recent call last)",
      "Cell \u001b[1;32mIn[17], line 1\u001b[0m\n\u001b[1;32m----> 1\u001b[0m T1[\u001b[38;5;241m3\u001b[39m]\u001b[38;5;241m=\u001b[39m\u001b[38;5;241m1\u001b[39m\n",
      "\u001b[1;31mTypeError\u001b[0m: 'tuple' object does not support item assignment"
     ]
    }
   ],
   "source": [
    "T1[3]=1"
   ]
  },
  {
   "cell_type": "code",
   "execution_count": 18,
   "id": "845de9aa",
   "metadata": {},
   "outputs": [
    {
     "name": "stdout",
     "output_type": "stream",
     "text": [
      "(1, True, 'Karthik', '')\n"
     ]
    }
   ],
   "source": [
    "T1*2\n",
    "print(T1)"
   ]
  },
  {
   "cell_type": "code",
   "execution_count": 19,
   "id": "a291eaf9",
   "metadata": {},
   "outputs": [
    {
     "data": {
      "text/plain": [
       "(1, True, 'Karthik', '')"
      ]
     },
     "execution_count": 19,
     "metadata": {},
     "output_type": "execute_result"
    }
   ],
   "source": [
    "T1"
   ]
  },
  {
   "cell_type": "code",
   "execution_count": 20,
   "id": "7d494659",
   "metadata": {},
   "outputs": [
    {
     "data": {
      "text/plain": [
       "(1, True, 'Karthik', '', 1, True, 'Karthik', '')"
      ]
     },
     "execution_count": 20,
     "metadata": {},
     "output_type": "execute_result"
    }
   ],
   "source": [
    "T1*2"
   ]
  },
  {
   "cell_type": "code",
   "execution_count": 21,
   "id": "d3994124",
   "metadata": {},
   "outputs": [
    {
     "data": {
      "text/plain": [
       "(1, True, 'Karthik', '')"
      ]
     },
     "execution_count": 21,
     "metadata": {},
     "output_type": "execute_result"
    }
   ],
   "source": [
    "T1"
   ]
  },
  {
   "cell_type": "code",
   "execution_count": 22,
   "id": "6d6c17fb",
   "metadata": {},
   "outputs": [],
   "source": [
    "T1=T1*2"
   ]
  },
  {
   "cell_type": "code",
   "execution_count": 23,
   "id": "2d4ea93e",
   "metadata": {},
   "outputs": [
    {
     "data": {
      "text/plain": [
       "(1, True, 'Karthik', '', 1, True, 'Karthik', '')"
      ]
     },
     "execution_count": 23,
     "metadata": {},
     "output_type": "execute_result"
    }
   ],
   "source": [
    "T1"
   ]
  },
  {
   "cell_type": "code",
   "execution_count": null,
   "id": "43ac9a72",
   "metadata": {},
   "outputs": [],
   "source": []
  }
 ],
 "metadata": {
  "kernelspec": {
   "display_name": "Python 3 (ipykernel)",
   "language": "python",
   "name": "python3"
  },
  "language_info": {
   "codemirror_mode": {
    "name": "ipython",
    "version": 3
   },
   "file_extension": ".py",
   "mimetype": "text/x-python",
   "name": "python",
   "nbconvert_exporter": "python",
   "pygments_lexer": "ipython3",
   "version": "3.11.3"
  }
 },
 "nbformat": 4,
 "nbformat_minor": 5
}
