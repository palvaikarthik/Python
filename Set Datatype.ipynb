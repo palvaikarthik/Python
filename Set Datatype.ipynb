{
 "cells": [
  {
   "cell_type": "markdown",
   "id": "b694a242",
   "metadata": {},
   "source": [
    "### Set {}"
   ]
  },
  {
   "cell_type": "code",
   "execution_count": 1,
   "id": "880501bb",
   "metadata": {},
   "outputs": [
    {
     "name": "stdout",
     "output_type": "stream",
     "text": [
      "set()\n",
      "<class 'set'>\n"
     ]
    }
   ],
   "source": [
    "# No Duplicates in set and it is based on hash table DS\n",
    "\n",
    "set_var =set()\n",
    "print(set_var)\n",
    "print(type(set_var))"
   ]
  },
  {
   "cell_type": "code",
   "execution_count": 2,
   "id": "f67b8aa8",
   "metadata": {},
   "outputs": [
    {
     "name": "stdout",
     "output_type": "stream",
     "text": [
      "{1, 2, 3, 4, 5}\n"
     ]
    }
   ],
   "source": [
    "set_var={1,2,3,4,5,1,2}\n",
    "print(set_var)"
   ]
  },
  {
   "cell_type": "code",
   "execution_count": 3,
   "id": "de362ed6",
   "metadata": {},
   "outputs": [
    {
     "name": "stdout",
     "output_type": "stream",
     "text": [
      "{'', 'Tues', 'Mon'}\n"
     ]
    }
   ],
   "source": [
    "set_var={'Mon','Tues','Mon',''}\n",
    "print(set_var)"
   ]
  },
  {
   "cell_type": "code",
   "execution_count": 4,
   "id": "07af8d90",
   "metadata": {},
   "outputs": [
    {
     "data": {
      "text/plain": [
       "set"
      ]
     },
     "execution_count": 4,
     "metadata": {},
     "output_type": "execute_result"
    }
   ],
   "source": [
    "type(set_var)"
   ]
  },
  {
   "cell_type": "code",
   "execution_count": 5,
   "id": "36aaa710",
   "metadata": {},
   "outputs": [
    {
     "ename": "TypeError",
     "evalue": "'set' object is not subscriptable",
     "output_type": "error",
     "traceback": [
      "\u001b[1;31m---------------------------------------------------------------------------\u001b[0m",
      "\u001b[1;31mTypeError\u001b[0m                                 Traceback (most recent call last)",
      "Cell \u001b[1;32mIn[5], line 2\u001b[0m\n\u001b[0;32m      1\u001b[0m \u001b[38;5;66;03m# indexing\u001b[39;00m\n\u001b[1;32m----> 2\u001b[0m set_var[\u001b[38;5;241m0\u001b[39m]\n",
      "\u001b[1;31mTypeError\u001b[0m: 'set' object is not subscriptable"
     ]
    }
   ],
   "source": [
    "# indexing\n",
    "set_var[0]     #No indexing in sets{}"
   ]
  },
  {
   "cell_type": "code",
   "execution_count": 6,
   "id": "faa617d9",
   "metadata": {},
   "outputs": [],
   "source": [
    "## Inbuilt functions in set\n",
    "\n",
    "set_var.add(\"Wed\")"
   ]
  },
  {
   "cell_type": "code",
   "execution_count": 7,
   "id": "a5ea655b",
   "metadata": {},
   "outputs": [
    {
     "data": {
      "text/plain": [
       "{'', 'Mon', 'Tues', 'Wed'}"
      ]
     },
     "execution_count": 7,
     "metadata": {},
     "output_type": "execute_result"
    }
   ],
   "source": [
    "set_var"
   ]
  },
  {
   "cell_type": "code",
   "execution_count": 8,
   "id": "27fa044e",
   "metadata": {},
   "outputs": [],
   "source": [
    "set_var1={'Mon','Tues','Thurs'}"
   ]
  },
  {
   "cell_type": "code",
   "execution_count": 9,
   "id": "35cbbbd2",
   "metadata": {},
   "outputs": [
    {
     "data": {
      "text/plain": [
       "{'', 'Wed'}"
      ]
     },
     "execution_count": 9,
     "metadata": {},
     "output_type": "execute_result"
    }
   ],
   "source": [
    "set_var.difference(set_var1)"
   ]
  },
  {
   "cell_type": "code",
   "execution_count": 10,
   "id": "07c46983",
   "metadata": {},
   "outputs": [
    {
     "data": {
      "text/plain": [
       "{'Mon', 'Tues'}"
      ]
     },
     "execution_count": 10,
     "metadata": {},
     "output_type": "execute_result"
    }
   ],
   "source": [
    "set_var.intersection(set_var1)"
   ]
  },
  {
   "cell_type": "code",
   "execution_count": 11,
   "id": "43027df9",
   "metadata": {},
   "outputs": [],
   "source": [
    "set_var.add(1)"
   ]
  },
  {
   "cell_type": "code",
   "execution_count": 13,
   "id": "869cdf0b",
   "metadata": {},
   "outputs": [
    {
     "data": {
      "text/plain": [
       "{'', 1, 'Mon', 'Tues', 'Wed'}"
      ]
     },
     "execution_count": 13,
     "metadata": {},
     "output_type": "execute_result"
    }
   ],
   "source": [
    "set_var"
   ]
  },
  {
   "cell_type": "code",
   "execution_count": 14,
   "id": "b33655bb",
   "metadata": {},
   "outputs": [
    {
     "data": {
      "text/plain": [
       "set"
      ]
     },
     "execution_count": 14,
     "metadata": {},
     "output_type": "execute_result"
    }
   ],
   "source": [
    "type(set_var)"
   ]
  },
  {
   "cell_type": "code",
   "execution_count": 19,
   "id": "cc81ca4d",
   "metadata": {},
   "outputs": [
    {
     "data": {
      "text/plain": [
       "'Wed'"
      ]
     },
     "execution_count": 19,
     "metadata": {},
     "output_type": "execute_result"
    }
   ],
   "source": [
    "set_var.pop()"
   ]
  },
  {
   "cell_type": "code",
   "execution_count": 23,
   "id": "3f3ac8eb",
   "metadata": {},
   "outputs": [],
   "source": [
    "set_var.remove('Tues')"
   ]
  },
  {
   "cell_type": "code",
   "execution_count": 24,
   "id": "2957b92d",
   "metadata": {},
   "outputs": [
    {
     "data": {
      "text/plain": [
       "{'Mon'}"
      ]
     },
     "execution_count": 24,
     "metadata": {},
     "output_type": "execute_result"
    }
   ],
   "source": [
    "set_var"
   ]
  },
  {
   "cell_type": "code",
   "execution_count": null,
   "id": "7c1c2824",
   "metadata": {},
   "outputs": [],
   "source": []
  }
 ],
 "metadata": {
  "kernelspec": {
   "display_name": "Python 3 (ipykernel)",
   "language": "python",
   "name": "python3"
  },
  "language_info": {
   "codemirror_mode": {
    "name": "ipython",
    "version": 3
   },
   "file_extension": ".py",
   "mimetype": "text/x-python",
   "name": "python",
   "nbconvert_exporter": "python",
   "pygments_lexer": "ipython3",
   "version": "3.11.3"
  }
 },
 "nbformat": 4,
 "nbformat_minor": 5
}
